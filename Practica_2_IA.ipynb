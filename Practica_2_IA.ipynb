{
  "nbformat": 4,
  "nbformat_minor": 0,
  "metadata": {
    "colab": {
      "name": "Practica_2_IA.ipynb",
      "version": "0.3.2",
      "provenance": [],
      "collapsed_sections": [],
      "include_colab_link": true
    },
    "kernelspec": {
      "name": "python3",
      "display_name": "Python 3"
    }
  },
  "cells": [
    {
      "cell_type": "markdown",
      "metadata": {
        "id": "view-in-github",
        "colab_type": "text"
      },
      "source": [
        "<a href=\"https://colab.research.google.com/github/C0K1/Artificial-Intelligence/blob/master/Practica_2_IA.ipynb\" target=\"_parent\"><img src=\"https://colab.research.google.com/assets/colab-badge.svg\" alt=\"Open In Colab\"/></a>"
      ]
    },
    {
      "cell_type": "code",
      "metadata": {
        "id": "EjScy3vGU7JL",
        "colab_type": "code",
        "colab": {}
      },
      "source": [
        "\n"
      ],
      "execution_count": 0,
      "outputs": []
    },
    {
      "cell_type": "markdown",
      "metadata": {
        "id": "Wdnz0dQWVbYz",
        "colab_type": "text"
      },
      "source": [
        "# Práctica 2\n",
        "Montes Garay Lilyan Victoria\n",
        "\n",
        "Torres Aragón Juan Jorge"
      ]
    },
    {
      "cell_type": "markdown",
      "metadata": {
        "id": "Uhs70znVVZ8b",
        "colab_type": "text"
      },
      "source": [
        "**Ejercicio 1:**\n",
        "\n",
        "Utilizar las bibliotecas de numpy y matplotlib para resolver el siguiente problema propuesto.\n",
        "Evaluar la siguiente función Gaussiana, en 50 puntos en un rango de x en [-10,10], para\n",
        "cada uno de los siguientes valores de m (media) y s (desviación) ."
      ]
    },
    {
      "cell_type": "code",
      "metadata": {
        "id": "RY4TatI_VlOu",
        "colab_type": "code",
        "colab": {}
      },
      "source": [
        ""
      ],
      "execution_count": 0,
      "outputs": []
    },
    {
      "cell_type": "code",
      "metadata": {
        "id": "AQZufnWaVkMO",
        "colab_type": "code",
        "colab": {}
      },
      "source": [
        ""
      ],
      "execution_count": 0,
      "outputs": []
    },
    {
      "cell_type": "markdown",
      "metadata": {
        "id": "2FFk-QlHVtHW",
        "colab_type": "text"
      },
      "source": [
        "**Ejercicio 2:**\n",
        "\n",
        "Utilizar las bibliotecas de numpy y matplotlib para resolver el siguiente problema propuesto.\n",
        "Realizar un programa que emplee la fórmula general para resolución de ecuaciones de\n",
        "segundo grado, de la forma ax2 + bx + c = 0 . Solicitar al usuario los valores para a , b y c ,\n",
        "el programa debe mostrar la solución calculada. Graficar la función con los parámetros\n",
        "capturados así como indicar con puntos las raíces calculadas, así como etiquetas en la\n",
        "gráfica mostrando el valor numérico de éstas."
      ]
    },
    {
      "cell_type": "markdown",
      "metadata": {
        "id": "HlZ32GhZVKVO",
        "colab_type": "text"
      },
      "source": [
        ""
      ]
    },
    {
      "cell_type": "code",
      "metadata": {
        "id": "MgvIU9zSV8W-",
        "colab_type": "code",
        "colab": {}
      },
      "source": [
        ""
      ],
      "execution_count": 0,
      "outputs": []
    },
    {
      "cell_type": "markdown",
      "metadata": {
        "id": "OilN2rw5V03W",
        "colab_type": "text"
      },
      "source": [
        "**Ejercicio 3:**\n",
        "\n",
        "Realizar una demostración de la diferenciación numérica con las siguientes funciones,\n",
        "discretizando a 50 puntos, usando h=0.01 :\n",
        "\n",
        "f(x) = ex e n x = [− 5, 5]\n",
        "\n",
        "f(x) = e−2x en 2 x = [− 5, 5]\n",
        "\n",
        "f(x) = cos x en x = [− 2π, 2π]\n",
        "\n",
        "f(x) = Ln x en x = [1, 10]\n"
      ]
    },
    {
      "cell_type": "code",
      "metadata": {
        "id": "7GwlRUSwVyXZ",
        "colab_type": "code",
        "outputId": "b25a5092-c1d7-4a34-bb8d-b2c0a6a594bc",
        "colab": {
          "base_uri": "https://localhost:8080/",
          "height": 4559
        }
      },
      "source": [
        "#Ejercicio 3\n",
        "import numpy as np\n",
        "import matplotlib.pyplot as plt\n",
        "def dif(x, h=0.0001, f=np.sin):\n",
        "  return (f(x+h)-f(x-h))/(2*h)\n",
        "\n",
        "#3.1\n",
        "x = np.linspace(-5,5,50)\n",
        "y= np.exp(x) # Función Original\n",
        "dy_num = dif(x,h=.01,f=np.exp) # Derivada con función\n",
        "dy = np.exp(x) # Derivada Analitica\n",
        "e = dy-dy_num # Error\n",
        "\n",
        "ea = np.absolute(dy-dy_num)# Error Absoluto\n",
        "er = ea/dy # Error Relativo\n",
        "ep = er*100 # Error Porcentual\n",
        "\n",
        "print(\"Error\",e)\n",
        "print(\"Error Absoluto\",ea)\n",
        "print(\"Error Porcentual\",ep)\n",
        "print(\"Error Relativo\",er)\n",
        "\n",
        "fig,ax =plt.subplots()\n",
        "fig.suptitle('e^x en x de [-5,5]')\n",
        "\n",
        "line1, =ax.plot(x,y,'g o', label='e^x')\n",
        "line2, =ax.plot(x,dif(x,h=.01,f=np.exp),'r',label='Derivada')\n",
        "line3, =ax.plot(x,dy,'b .',label='Analítica')\n",
        "plt.grid()\n",
        "ax.legend()\n",
        "plt.show()\n",
        "\n",
        "#3.2\n",
        "x = np.linspace(-5,5,50)\n",
        "y= np.exp(-2*(x**2)) # Función Original\n",
        "dy_num = dif(x,h=.01,f=np.exp) # Derivada con función\n",
        "dy = -4*x*np.exp(-2*(x**2)) # Derivada Analitica\n",
        "e = dy-dy_num # Error\n",
        "\n",
        "ea = np.absolute(dy-dy_num)# Error Absoluto\n",
        "er = ea/dy # Error Relativo\n",
        "ep = er*100 # Error Porcentual\n",
        "\n",
        "print(\"Error\",e)\n",
        "print(\"Error Absoluto\",ea)\n",
        "print(\"Error Porcentual\",ep)\n",
        "print(\"Error Relativo\",er)\n",
        "\n",
        "fig,ax =plt.subplots()\n",
        "fig.suptitle('e^-2(x^2) en x de [-5,5]')\n",
        "\n",
        "line1, =ax.plot(x,y,'g o', label='e^-2(x^2)')\n",
        "line2, =ax.plot(x,dif(x,h=.01,f=np.exp),'r',label='Derivada')\n",
        "line3, =ax.plot(x,dy,'b .',label='Analítica')\n",
        "plt.grid()\n",
        "ax.legend()\n",
        "plt.show()\n",
        "\n",
        "#3.3\n",
        "pi = np.pi\n",
        "x = np.linspace(-2*pi,2*pi,50)\n",
        "y= np.cos(x) # Función Original\n",
        "dy_num = dif(x,h=.01,f=np.cos) # Derivada con función\n",
        "dy = -1*np.sin(x) # Derivada Analitica\n",
        "e = dy-dy_num # Error\n",
        "\n",
        "ea = np.absolute(dy-dy_num)# Error Absoluto\n",
        "er = ea/dy # Error Relativo\n",
        "ep = er*100 # Error Porcentual\n",
        "\n",
        "print(\"Error\",e)\n",
        "print(\"Error Absoluto\",ea)\n",
        "print(\"Error Porcentual\",ep)\n",
        "print(\"Error Relativo\",er)\n",
        "\n",
        "fig,ax =plt.subplots()\n",
        "fig.suptitle('cos(x) en x de [-2pi,2pi]')\n",
        "\n",
        "line1, =ax.plot(x,y,'g o', label='cos(x)')\n",
        "line2, =ax.plot(x,dif(x,h=.01,f=np.cos),'r',label='Derivada')\n",
        "line3, =ax.plot(x,dy,'b .',label='Analítica')\n",
        "plt.grid()\n",
        "ax.legend()\n",
        "plt.show()\n",
        "\n",
        "\n",
        "#3.4\n",
        "x = np.linspace(1,10,50)\n",
        "y= np.log(x) # Función Original\n",
        "dy_num = dif(x,h=.01,f=np.log) # Derivada con función\n",
        "dy = 1/x # Derivada Analitica\n",
        "e = dy-dy_num # Error\n",
        "\n",
        "ea = np.absolute(dy-dy_num)# Error Absoluto\n",
        "er = ea/dy # Error Relativo\n",
        "ep = er*100 # Error Porcentual\n",
        "\n",
        "print(\"Error\",e)\n",
        "print(\"Error Absoluto\",ea)\n",
        "print(\"Error Porcentual\",ep)\n",
        "print(\"Error Relativo\",er)\n",
        "\n",
        "fig,ax =plt.subplots()\n",
        "fig.suptitle('ln(x) en x de [1,10]')\n",
        "\n",
        "line1, =ax.plot(x,y,'g o', label='ln(x)')\n",
        "line2, =ax.plot(x,dif(x,h=.01,f=np.log),'r',label='Derivada')\n",
        "line3, =ax.plot(x,dy,'b .',label='Analítica')\n",
        "plt.grid()\n",
        "ax.legend()\n",
        "plt.show()\n",
        "\n",
        "np.dot\n"
      ],
      "execution_count": 2,
      "outputs": [
        {
          "output_type": "stream",
          "text": [
            "Error [-1.12299678e-07 -1.37724130e-07 -1.68904634e-07 -2.07144350e-07\n",
            " -2.54041471e-07 -3.11556019e-07 -3.82091760e-07 -4.68596672e-07\n",
            " -5.74686144e-07 -7.04794089e-07 -8.64358247e-07 -1.06004745e-06\n",
            " -1.30004036e-06 -1.59436724e-06 -1.95532921e-06 -2.39801235e-06\n",
            " -2.94091818e-06 -3.60673695e-06 -4.42329594e-06 -5.42472245e-06\n",
            " -6.65287019e-06 -8.15906846e-06 -1.00062674e-05 -1.22716689e-05\n",
            " -1.50499535e-05 -1.84572368e-05 -2.26359232e-05 -2.77606569e-05\n",
            " -3.40456214e-05 -4.17534910e-05 -5.12064088e-05 -6.27994509e-05\n",
            " -7.70171375e-05 -9.44536837e-05 -1.15837834e-04 -1.42063318e-04\n",
            " -1.74226206e-04 -2.13670717e-04 -2.62045396e-04 -3.21372019e-04\n",
            " -3.94130086e-04 -4.83360453e-04 -5.92792420e-04 -7.26999594e-04\n",
            " -8.91591040e-04 -1.09344570e-03 -1.34099991e-03 -1.64459996e-03\n",
            " -2.01693454e-03 -2.47356502e-03]\n",
            "Error Absoluto [1.12299678e-07 1.37724130e-07 1.68904634e-07 2.07144350e-07\n",
            " 2.54041471e-07 3.11556019e-07 3.82091760e-07 4.68596672e-07\n",
            " 5.74686144e-07 7.04794089e-07 8.64358247e-07 1.06004745e-06\n",
            " 1.30004036e-06 1.59436724e-06 1.95532921e-06 2.39801235e-06\n",
            " 2.94091818e-06 3.60673695e-06 4.42329594e-06 5.42472245e-06\n",
            " 6.65287019e-06 8.15906846e-06 1.00062674e-05 1.22716689e-05\n",
            " 1.50499535e-05 1.84572368e-05 2.26359232e-05 2.77606569e-05\n",
            " 3.40456214e-05 4.17534910e-05 5.12064088e-05 6.27994509e-05\n",
            " 7.70171375e-05 9.44536837e-05 1.15837834e-04 1.42063318e-04\n",
            " 1.74226206e-04 2.13670717e-04 2.62045396e-04 3.21372019e-04\n",
            " 3.94130086e-04 4.83360453e-04 5.92792420e-04 7.26999594e-04\n",
            " 8.91591040e-04 1.09344570e-03 1.34099991e-03 1.64459996e-03\n",
            " 2.01693454e-03 2.47356502e-03]\n",
            "Error Porcentual [0.00166667 0.00166667 0.00166667 0.00166667 0.00166667 0.00166667\n",
            " 0.00166667 0.00166667 0.00166667 0.00166667 0.00166667 0.00166667\n",
            " 0.00166667 0.00166667 0.00166667 0.00166668 0.00166668 0.00166667\n",
            " 0.00166668 0.00166668 0.00166667 0.00166668 0.00166668 0.00166668\n",
            " 0.00166667 0.00166667 0.00166667 0.00166668 0.00166668 0.00166667\n",
            " 0.00166668 0.00166668 0.00166668 0.00166668 0.00166667 0.00166667\n",
            " 0.00166667 0.00166667 0.00166667 0.00166667 0.00166667 0.00166667\n",
            " 0.00166667 0.00166667 0.00166667 0.00166667 0.00166667 0.00166667\n",
            " 0.00166667 0.00166667]\n",
            "Error Relativo [1.666675e-05 1.666675e-05 1.666675e-05 1.666675e-05 1.666675e-05\n",
            " 1.666675e-05 1.666675e-05 1.666675e-05 1.666675e-05 1.666675e-05\n",
            " 1.666675e-05 1.666675e-05 1.666675e-05 1.666675e-05 1.666675e-05\n",
            " 1.666675e-05 1.666675e-05 1.666675e-05 1.666675e-05 1.666675e-05\n",
            " 1.666675e-05 1.666675e-05 1.666675e-05 1.666675e-05 1.666675e-05\n",
            " 1.666675e-05 1.666675e-05 1.666675e-05 1.666675e-05 1.666675e-05\n",
            " 1.666675e-05 1.666675e-05 1.666675e-05 1.666675e-05 1.666675e-05\n",
            " 1.666675e-05 1.666675e-05 1.666675e-05 1.666675e-05 1.666675e-05\n",
            " 1.666675e-05 1.666675e-05 1.666675e-05 1.666675e-05 1.666675e-05\n",
            " 1.666675e-05 1.666675e-05 1.666675e-05 1.666675e-05 1.666675e-05]\n"
          ],
          "name": "stdout"
        },
        {
          "output_type": "display_data",
          "data": {
            "image/png": "[encoded data removed]",
            "text/plain": [
              "<Figure size 432x288 with 1 Axes>"
            ]
          },
          "metadata": {
            "tags": []
          }
        },
        {
          "output_type": "stream",
          "text": [
            "Error [-6.73805930e-03 -8.26354422e-03 -1.01343963e-02 -1.24288060e-02\n",
            " -1.52426661e-02 -1.86935792e-02 -2.29257731e-02 -2.81161282e-02\n",
            " -3.44815691e-02 -4.22881130e-02 -5.18618067e-02 -6.36007768e-02\n",
            " -7.79806196e-02 -9.55088851e-02 -1.16440814e-01 -1.39668449e-01\n",
            " -1.59569967e-01 -1.59910746e-01 -1.08243165e-01  3.58383157e-02\n",
            "  2.80824400e-01  5.40301006e-01  6.12176529e-01  2.78908247e-01\n",
            " -5.03256446e-01 -1.50719843e+00 -2.37338821e+00 -2.87821842e+00\n",
            " -3.07261194e+00 -3.18523995e+00 -3.43374583e+00 -3.92516870e+00\n",
            " -4.67757816e+00 -5.68417432e+00 -6.95456507e+00 -8.52477883e+00\n",
            " -1.04538486e+01 -1.28204153e+01 -1.57229100e+01 -1.92825464e+01\n",
            " -2.36480811e+01 -2.90019656e+01 -3.55679602e+01 -4.36204846e+01\n",
            " -5.34960866e+01 -6.56075077e+01 -8.04609335e+01 -9.86771491e+01\n",
            " -1.21017484e+02 -1.48415633e+02]\n",
            "Error Absoluto [6.73805930e-03 8.26354422e-03 1.01343963e-02 1.24288060e-02\n",
            " 1.52426661e-02 1.86935792e-02 2.29257731e-02 2.81161282e-02\n",
            " 3.44815691e-02 4.22881130e-02 5.18618067e-02 6.36007768e-02\n",
            " 7.79806196e-02 9.55088851e-02 1.16440814e-01 1.39668449e-01\n",
            " 1.59569967e-01 1.59910746e-01 1.08243165e-01 3.58383157e-02\n",
            " 2.80824400e-01 5.40301006e-01 6.12176529e-01 2.78908247e-01\n",
            " 5.03256446e-01 1.50719843e+00 2.37338821e+00 2.87821842e+00\n",
            " 3.07261194e+00 3.18523995e+00 3.43374583e+00 3.92516870e+00\n",
            " 4.67757816e+00 5.68417432e+00 6.95456507e+00 8.52477883e+00\n",
            " 1.04538486e+01 1.28204153e+01 1.57229100e+01 1.92825464e+01\n",
            " 2.36480811e+01 2.90019656e+01 3.55679602e+01 4.36204846e+01\n",
            " 5.34960866e+01 6.56075077e+01 8.04609335e+01 9.86771491e+01\n",
            " 1.21017484e+02 1.48415633e+02]\n",
            "Error Porcentual [ 1.74674266e+20  4.09736140e+18  1.13741514e+17  3.73718605e+15\n",
            "  1.45366134e+14  6.69527901e+12  3.65233007e+11  2.36044791e+10\n",
            "  1.80797114e+09  1.64186995e+08  1.76867397e+07  2.26133580e+06\n",
            "  3.43347277e+05  6.19121193e+04  1.32272857e+04  3.31441463e+03\n",
            "  9.44917646e+02  2.83047928e+02  6.88755137e+01  9.91856916e+00\n",
            "  4.12976288e+01  5.24640067e+01  5.04863053e+01  2.74727722e+01\n",
            "  1.25892386e+02 -3.77034030e+02 -2.33781376e+02 -2.37367176e+02\n",
            " -2.98355050e+02 -4.68416766e+02 -9.50319369e+02 -2.49759891e+03\n",
            " -8.27948615e+03 -3.36596962e+04 -1.65035929e+05 -9.68386266e+05\n",
            " -6.77654149e+06 -5.64480598e+07 -5.59030584e+08 -6.57604122e+09\n",
            " -9.18155742e+10 -1.52065924e+12 -2.98605542e+13 -6.94922727e+14\n",
            " -1.91601202e+16 -6.25685145e+17 -2.41935934e+19 -1.10748465e+21\n",
            " -6.00048062e+22 -3.84745676e+24]\n",
            "Error Relativo [ 1.74674266e+18  4.09736140e+16  1.13741514e+15  3.73718605e+13\n",
            "  1.45366134e+12  6.69527901e+10  3.65233007e+09  2.36044791e+08\n",
            "  1.80797114e+07  1.64186995e+06  1.76867397e+05  2.26133580e+04\n",
            "  3.43347277e+03  6.19121193e+02  1.32272857e+02  3.31441463e+01\n",
            "  9.44917646e+00  2.83047928e+00  6.88755137e-01  9.91856916e-02\n",
            "  4.12976288e-01  5.24640067e-01  5.04863053e-01  2.74727722e-01\n",
            "  1.25892386e+00 -3.77034030e+00 -2.33781376e+00 -2.37367176e+00\n",
            " -2.98355050e+00 -4.68416766e+00 -9.50319369e+00 -2.49759891e+01\n",
            " -8.27948615e+01 -3.36596962e+02 -1.65035929e+03 -9.68386266e+03\n",
            " -6.77654149e+04 -5.64480598e+05 -5.59030584e+06 -6.57604122e+07\n",
            " -9.18155742e+08 -1.52065924e+10 -2.98605542e+11 -6.94922727e+12\n",
            " -1.91601202e+14 -6.25685145e+15 -2.41935934e+17 -1.10748465e+19\n",
            " -6.00048062e+20 -3.84745676e+22]\n"
          ],
          "name": "stdout"
        },
        {
          "output_type": "display_data",
          "data": {
            "image/png": "[encoded data removed]",
            "text/plain": [
              "<Figure size 432x288 with 1 Axes>"
            ]
          },
          "metadata": {
            "tags": []
          }
        },
        {
          "output_type": "stream",
          "text": [
            "Error [-2.44929360e-16 -4.22755527e-06 -8.17858498e-06 -1.15946512e-05\n",
            " -1.42523081e-05 -1.59777177e-05 -1.66580203e-05 -1.62487173e-05\n",
            " -1.47765812e-05 -1.23379049e-05 -9.09220290e-06 -5.25177738e-06\n",
            " -1.06783166e-06  3.18596122e-06  7.23135951e-06  1.08037526e-05\n",
            "  1.36694692e-05  1.56410622e-05  1.65895689e-05  1.64529475e-05\n",
            "  1.52401342e-05  1.30304596e-05  9.96845900e-06  6.25441881e-06\n",
            "  2.13127537e-06 -2.13127538e-06 -6.25441881e-06 -9.96845900e-06\n",
            " -1.30304596e-05 -1.52401342e-05 -1.64529475e-05 -1.65895689e-05\n",
            " -1.56410622e-05 -1.36694692e-05 -1.08037526e-05 -7.23135951e-06\n",
            " -3.18596122e-06  1.06783166e-06  5.25177738e-06  9.09220291e-06\n",
            "  1.23379049e-05  1.47765812e-05  1.62487173e-05  1.66580203e-05\n",
            "  1.59777177e-05  1.42523081e-05  1.15946512e-05  8.17858498e-06\n",
            "  4.22755526e-06  2.44929360e-16]\n",
            "Error Absoluto [2.44929360e-16 4.22755527e-06 8.17858498e-06 1.15946512e-05\n",
            " 1.42523081e-05 1.59777177e-05 1.66580203e-05 1.62487173e-05\n",
            " 1.47765812e-05 1.23379049e-05 9.09220290e-06 5.25177738e-06\n",
            " 1.06783166e-06 3.18596122e-06 7.23135951e-06 1.08037526e-05\n",
            " 1.36694692e-05 1.56410622e-05 1.65895689e-05 1.64529475e-05\n",
            " 1.52401342e-05 1.30304596e-05 9.96845900e-06 6.25441881e-06\n",
            " 2.13127537e-06 2.13127538e-06 6.25441881e-06 9.96845900e-06\n",
            " 1.30304596e-05 1.52401342e-05 1.64529475e-05 1.65895689e-05\n",
            " 1.56410622e-05 1.36694692e-05 1.08037526e-05 7.23135951e-06\n",
            " 3.18596122e-06 1.06783166e-06 5.25177738e-06 9.09220291e-06\n",
            " 1.23379049e-05 1.47765812e-05 1.62487173e-05 1.66580203e-05\n",
            " 1.59777177e-05 1.42523081e-05 1.15946512e-05 8.17858498e-06\n",
            " 4.22755526e-06 2.44929360e-16]\n",
            "Error Porcentual [-1.00000000e+02 -1.66665834e-03 -1.66665833e-03 -1.66665834e-03\n",
            " -1.66665834e-03 -1.66665834e-03 -1.66665834e-03 -1.66665834e-03\n",
            " -1.66665834e-03 -1.66665834e-03 -1.66665834e-03 -1.66665834e-03\n",
            " -1.66665833e-03  1.66665833e-03  1.66665834e-03  1.66665834e-03\n",
            "  1.66665834e-03  1.66665833e-03  1.66665833e-03  1.66665833e-03\n",
            "  1.66665833e-03  1.66665833e-03  1.66665833e-03  1.66665833e-03\n",
            "  1.66665833e-03 -1.66665834e-03 -1.66665833e-03 -1.66665833e-03\n",
            " -1.66665833e-03 -1.66665833e-03 -1.66665833e-03 -1.66665833e-03\n",
            " -1.66665833e-03 -1.66665834e-03 -1.66665834e-03 -1.66665834e-03\n",
            " -1.66665834e-03  1.66665834e-03  1.66665834e-03  1.66665834e-03\n",
            "  1.66665834e-03  1.66665834e-03  1.66665834e-03  1.66665834e-03\n",
            "  1.66665834e-03  1.66665834e-03  1.66665834e-03  1.66665834e-03\n",
            "  1.66665833e-03  1.00000000e+02]\n",
            "Error Relativo [-1.00000000e+00 -1.66665834e-05 -1.66665833e-05 -1.66665834e-05\n",
            " -1.66665834e-05 -1.66665834e-05 -1.66665834e-05 -1.66665834e-05\n",
            " -1.66665834e-05 -1.66665834e-05 -1.66665834e-05 -1.66665834e-05\n",
            " -1.66665833e-05  1.66665833e-05  1.66665834e-05  1.66665834e-05\n",
            "  1.66665834e-05  1.66665833e-05  1.66665833e-05  1.66665833e-05\n",
            "  1.66665833e-05  1.66665833e-05  1.66665833e-05  1.66665833e-05\n",
            "  1.66665833e-05 -1.66665834e-05 -1.66665833e-05 -1.66665833e-05\n",
            " -1.66665833e-05 -1.66665833e-05 -1.66665833e-05 -1.66665833e-05\n",
            " -1.66665833e-05 -1.66665834e-05 -1.66665834e-05 -1.66665834e-05\n",
            " -1.66665834e-05  1.66665834e-05  1.66665834e-05  1.66665834e-05\n",
            "  1.66665834e-05  1.66665834e-05  1.66665834e-05  1.66665834e-05\n",
            "  1.66665834e-05  1.66665834e-05  1.66665834e-05  1.66665834e-05\n",
            "  1.66665833e-05  1.00000000e+00]\n"
          ],
          "name": "stdout"
        },
        {
          "output_type": "display_data",
          "data": {
            "image/png": "[encoded data removed]",
            "text/plain": [
              "<Figure size 432x288 with 1 Axes>"
            ]
          },
          "metadata": {
            "tags": []
          }
        },
        {
          "output_type": "stream",
          "text": [
            "Error [-3.33353335e-05 -2.01002567e-05 -1.30393672e-05 -8.93381676e-06\n",
            " -6.38585228e-06 -4.72161428e-06 -3.58889876e-06 -2.79137320e-06\n",
            " -2.21368156e-06 -1.78500990e-06 -1.46024531e-06 -1.20971954e-06\n",
            " -1.01337588e-06 -8.57324009e-07 -7.31736774e-07 -6.29528450e-07\n",
            " -5.45502485e-07 -4.75789008e-07 -4.17465907e-07 -3.68298738e-07\n",
            " -3.26559052e-07 -2.90895642e-07 -2.60241846e-07 -2.33748069e-07\n",
            " -2.10731884e-07 -1.90640923e-07 -1.73024833e-07 -1.57513998e-07\n",
            " -1.43803071e-07 -1.31638387e-07 -1.20807957e-07 -1.11133766e-07\n",
            " -1.02465538e-07 -9.46758484e-08 -8.76561573e-08 -8.13136265e-08\n",
            " -7.55685100e-08 -7.03521377e-08 -6.56050199e-08 -6.12755878e-08\n",
            " -5.73188287e-08 -5.36955775e-08 -5.03713546e-08 -4.73159722e-08\n",
            " -4.45027801e-08 -4.19082669e-08 -3.95115907e-08 -3.72942084e-08\n",
            " -3.52396742e-08 -3.33333473e-08]\n",
            "Error Absoluto [3.33353335e-05 2.01002567e-05 1.30393672e-05 8.93381676e-06\n",
            " 6.38585228e-06 4.72161428e-06 3.58889876e-06 2.79137320e-06\n",
            " 2.21368156e-06 1.78500990e-06 1.46024531e-06 1.20971954e-06\n",
            " 1.01337588e-06 8.57324009e-07 7.31736774e-07 6.29528450e-07\n",
            " 5.45502485e-07 4.75789008e-07 4.17465907e-07 3.68298738e-07\n",
            " 3.26559052e-07 2.90895642e-07 2.60241846e-07 2.33748069e-07\n",
            " 2.10731884e-07 1.90640923e-07 1.73024833e-07 1.57513998e-07\n",
            " 1.43803071e-07 1.31638387e-07 1.20807957e-07 1.11133766e-07\n",
            " 1.02465538e-07 9.46758484e-08 8.76561573e-08 8.13136265e-08\n",
            " 7.55685100e-08 7.03521377e-08 6.56050199e-08 6.12755878e-08\n",
            " 5.73188287e-08 5.36955775e-08 5.03713546e-08 4.73159722e-08\n",
            " 4.45027801e-08 4.19082669e-08 3.95115907e-08 3.72942084e-08\n",
            " 3.52396742e-08 3.33333473e-08]\n",
            "Error Porcentual [3.33353335e-03 2.37921406e-03 1.78293388e-03 1.38565321e-03\n",
            " 1.10774988e-03 9.05779065e-04 7.54401167e-04 6.38028159e-04\n",
            " 5.46643813e-04 4.73574055e-04 4.14232854e-04 3.65384678e-04\n",
            " 3.24693904e-04 2.90440379e-04 2.61334562e-04 2.36394357e-04\n",
            " 2.14861183e-04 1.96141591e-04 1.79765931e-04 1.65358617e-04\n",
            " 1.52616373e-04 1.41292169e-04 1.31183134e-04 1.22121440e-04\n",
            " 1.13967243e-04 1.06603292e-04 9.99306686e-05 9.38654845e-05\n",
            " 8.83361720e-05 8.32814288e-05 7.86484453e-05 7.43915823e-05\n",
            " 7.04711963e-05 6.68527419e-05 6.35059915e-05 6.04044082e-05\n",
            " 5.75246005e-05 5.48459522e-05 5.23501281e-05 5.00208880e-05\n",
            " 4.78436754e-05 4.58056151e-05 4.38950375e-05 4.21015589e-05\n",
            " 4.04157901e-05 3.88292922e-05 3.73344215e-05 3.59242171e-05\n",
            " 3.45924149e-05 3.33333473e-05]\n",
            "Error Relativo [3.33353335e-05 2.37921406e-05 1.78293388e-05 1.38565321e-05\n",
            " 1.10774988e-05 9.05779065e-06 7.54401167e-06 6.38028159e-06\n",
            " 5.46643813e-06 4.73574055e-06 4.14232854e-06 3.65384678e-06\n",
            " 3.24693904e-06 2.90440379e-06 2.61334562e-06 2.36394357e-06\n",
            " 2.14861183e-06 1.96141591e-06 1.79765931e-06 1.65358617e-06\n",
            " 1.52616373e-06 1.41292169e-06 1.31183134e-06 1.22121440e-06\n",
            " 1.13967243e-06 1.06603292e-06 9.99306686e-07 9.38654845e-07\n",
            " 8.83361720e-07 8.32814288e-07 7.86484453e-07 7.43915823e-07\n",
            " 7.04711963e-07 6.68527419e-07 6.35059915e-07 6.04044082e-07\n",
            " 5.75246005e-07 5.48459522e-07 5.23501281e-07 5.00208880e-07\n",
            " 4.78436754e-07 4.58056151e-07 4.38950375e-07 4.21015589e-07\n",
            " 4.04157901e-07 3.88292922e-07 3.73344215e-07 3.59242171e-07\n",
            " 3.45924149e-07 3.33333473e-07]\n"
          ],
          "name": "stdout"
        },
        {
          "output_type": "display_data",
          "data": {
            "image/png": "[encoded data removed]",
            "text/plain": [
              "<Figure size 432x288 with 1 Axes>"
            ]
          },
          "metadata": {
            "tags": []
          }
        },
        {
          "output_type": "execute_result",
          "data": {
            "text/plain": [
              "<function numpy.dot>"
            ]
          },
          "metadata": {
            "tags": []
          },
          "execution_count": 2
        }
      ]
    },
    {
      "cell_type": "markdown",
      "metadata": {
        "id": "HUWDmrBsWfG1",
        "colab_type": "text"
      },
      "source": [
        "**Ejercicio 4:**\n",
        "\n",
        "Utilizar las bibliotecas de numpy para resolver el siguiente problema propuesto. Crear una función en python que recibe dos parámetros, el primero de ellos indica las dimensiones de la matriz que se genera, siendo el segundo parámetro el rango de los valores que se generan aleatoriamente en la matriz. La función recibe los siguientes parámetros:\n",
        "\n",
        "*   Tupla de dos elementos. Indicando dimensiones de la matriz a generar.\n",
        "*   Tupla de dos elementos. Indicando el mínimo y máximo de los valores de cada uno de los elementos de la matriz.\n",
        "\n",
        "*Ejercicio 4.1*\n",
        "\n",
        "Crear dos matrices que con tamaño compatible para realizar la operación de multiplicación y mostrar los resultados en consola.\n",
        "\n",
        "\n",
        "*Ejercicio 4.2*\n",
        "\n",
        "Crear dos matrices con las mismas dimensiones y realizar la multiplicación elemento por elemento (Hadamard).\n",
        "\n",
        "\n",
        "\n",
        "\n",
        "\n"
      ]
    },
    {
      "cell_type": "code",
      "metadata": {
        "id": "GXUeIFcKWH1d",
        "colab_type": "code",
        "colab": {
          "base_uri": "https://localhost:8080/",
          "height": 238
        },
        "outputId": "a7e8f215-2e64-47d1-87ce-a5075470cf66"
      },
      "source": [
        "#Ejercicio 4:\n",
        "\n",
        "import numpy as np\n",
        "\n",
        "def matrices(columnas,reenglones,minimo,maximo):\n",
        "  E=[]\n",
        "  M=[]\n",
        "  for i in range(0,reenglones):\n",
        "    for j in range(0,columnas):\n",
        "      a = np.random.randint(minimo,maximo)\n",
        "      E.append(a)\n",
        "    M.append(E)\n",
        "    E=[]\n",
        "  print(\"Matriz generada= \"+str(M))\n",
        "  return(M)\n",
        "#4.1 MxN*N*M\n",
        "print(\"4.1 MxN*N*M\")\n",
        "A=matrices(3,2,1,10)\n",
        "B=matrices(2,3,1,5)\n",
        "C=np.matmul(A,B)\n",
        "print(\"Resultado MxN*NxM\\n\"+str(C))\n",
        "\n",
        "\n",
        "#4.2 Hadamard\n",
        "print(\"4.2 Hadamard\")\n",
        "A=matrices(3,3,1,10)\n",
        "B=matrices(3,3,1,5)\n",
        "C=np.multiply(A,B)\n",
        "print(\"Resultado Hadamard\\n\"+str(C))\n"
      ],
      "execution_count": 28,
      "outputs": [
        {
          "output_type": "stream",
          "text": [
            "4.1 MxN*N*M\n",
            "Matriz generada= [[5, 7, 7], [7, 6, 3]]\n",
            "Matriz generada= [[4, 2], [2, 4], [1, 4]]\n",
            "Resultado MxN*NxM\n",
            "[[41 66]\n",
            " [43 50]]\n",
            "4.2 Hadamard\n",
            "Matriz generada= [[9, 3, 2], [7, 6, 8], [1, 1, 1]]\n",
            "Matriz generada= [[1, 3, 4], [2, 3, 2], [3, 1, 4]]\n",
            "Resultado Hadamard\n",
            "[[ 9  9  8]\n",
            " [14 18 16]\n",
            " [ 3  1  4]]\n"
          ],
          "name": "stdout"
        }
      ]
    },
    {
      "cell_type": "code",
      "metadata": {
        "id": "eeCPTjMXKmuw",
        "colab_type": "code",
        "colab": {}
      },
      "source": [
        ""
      ],
      "execution_count": 0,
      "outputs": []
    }
  ]
}