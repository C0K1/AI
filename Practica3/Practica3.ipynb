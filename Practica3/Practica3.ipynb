{
 "cells": [
  {
   "cell_type": "markdown",
   "metadata": {},
   "source": [
    "# Práctica 3\n",
    "\n",
    "1238689 Montes Garay Lilyan Victoria\n",
    "\n",
    "1201706 Torres Aragón Juan Jorge"
   ]
  },
  {
   "cell_type": "code",
   "execution_count": null,
   "metadata": {},
   "outputs": [],
   "source": []
  },
  {
   "cell_type": "markdown",
   "metadata": {},
   "source": [
    "**Ejercicio 1**\n",
    "\n",
    "Utilizar las bibliotecas brindadas por el profesor para realizar la práctica. El alumno debe modelar el siguiente problema propuesto. Se requiere diseñar un controlador difuso para una lavadora, se le solicita al alumno que funga como experto del\n",
    "dominio, por lo que deberá plasmar su expertis en un modelo computable, a través de reglas difusas. El sistema de lavado cuenta con sensores para: medir el peso de la carga y un sensor óptico para detectar el nivel de suciedad de la carga. Además el operador debería poder seleccionar de un catálogo (máximo 5 opciones) el tipo de ropa. Los elementos del sistema que se pueden afectar son: tiempo de lavado, tiempo de pre-lavado, intensidad de lavado, temperatura del agua, cantidad de detergente, cantidad de acondicionador, tiempo de enjuague, tiempo del ciclo de exprimido.\n",
    "\n",
    "Dada las anteriores descripciones del sistema, el experto debe decidir cuáles son las variables de salida apropiadas para lograr los siguientes objetivos:\n",
    "\n",
    "* Minimizar el tiempo de lavado\n",
    "* Minimizar el agua empleada\n",
    "* Minimizar la energía requerida\n",
    "* Evitar daño en la ropa\n",
    "* Minimizar el uso de detergentes\n",
    "\n",
    "Proponer un Sistema de Inferencia Difuso que considere las entradas del sistema para mejora del ciclo de lavado de acuerdo a los objetivos propuestos por la empresa. En la documentación de este ejercicio, considerar:\n",
    "\n",
    "* Por cada variable involucrada, justificar su función de membresía (tener en mente que es un proceso de percepción, por lo que se puede omitir algunos detalles cualitativos).\n",
    "* Describir las reglas difusas ○ Se puede describir todo el conjunto de reglas de forma general, o bien, una pequeña descripción con un ejemplo, por cada una de ellas.\n",
    "* Realizar al menos 3 casos de prueba, describir cuanto se acerca el resultado del sistema con la decisión que el alumno hubiera considerado.\n"
   ]
  },
  {
   "cell_type": "code",
   "execution_count": null,
   "metadata": {},
   "outputs": [],
   "source": []
  },
  {
   "cell_type": "markdown",
   "metadata": {},
   "source": [
    "**Ejercicio 2**\n",
    "\n",
    "Utilizar las bibliotecas brindadas por el profesor para realizar la práctica.\n",
    "\n",
    "El alumno debe de proponer un problema en donde se realice una toma de decisión, en el cual, el alumno debe tener un nivel de expertis aceptable. Se deben cumplir con los siguientes requisitos:\n",
    "    \n",
    "* Mínimo 4 variables de entrada\n",
    "* La cantidad mínima de salidas es uno (si el problema no es complejo, añada más)\n",
    "* Mínimo 3 reglas difusas\n",
    "Se deberá entregar un documento (tipo jupyter notebook ) que contenga los siguientes\n",
    "puntos:\n",
    "* Descripción del problema\n",
    "    * Justificación; por qué es importante modelar este problema.\n",
    "    * Especificar ejemplos de aplicación.\n",
    "    * Describir cada una de las variables involucradas (entrada y salida).\n",
    "* Por cada variable involucrada, justificar su función de membresía (tener en mente que es un proceso de percepción, por lo que se puede omitir algunos detalles cualitativos).\n",
    "* Describir las reglas difusas\n",
    "    * Se puede describir todo el conjunto de reglas de forma general, o bien, una pequeña descripción con un ejemplo, por cada una de ellas.\n",
    "* Realizar al menos 3 casos de prueba, describir cuanto se acerca el resultado del sistema con la decisión que el alumno hubiera considerado."
   ]
  },
  {
   "cell_type": "code",
   "execution_count": null,
   "metadata": {},
   "outputs": [],
   "source": []
  },
  {
   "cell_type": "markdown",
   "metadata": {},
   "source": [
    "**Ejercicio 3**\n",
    "\n",
    "El alumno deberá describir (de forma breve) al menos 4 problemas en donde consideré que se podría aplicar un sistema de inferencia difuso y especificar la razón del por qué sería útil."
   ]
  },
  {
   "cell_type": "code",
   "execution_count": null,
   "metadata": {},
   "outputs": [],
   "source": []
  },
  {
   "cell_type": "markdown",
   "metadata": {},
   "source": [
    "**Ejercicio 4**\n",
    "\n",
    "El alumno deberá escribir una discusión del de éste tipo de sistemas, de su perspectiva de, en donde considere los siguientes puntos:\n",
    "\n",
    "* Cómo han impactado en la industria\n",
    "* Cuáles son las ventajas y desventajas (hacer énfasis en esto último) del desarrollo e implementación de estos sistemas.\n",
    "* Cuál se imagina que sea el futuro de estos sistemas (investigar los avances en este campo)\n",
    "* ¿Estos sistemas serían útiles para representar toda clase de conocimiento?, justifique su respuesta"
   ]
  },
  {
   "cell_type": "code",
   "execution_count": null,
   "metadata": {},
   "outputs": [],
   "source": []
  }
 ],
 "metadata": {
  "kernelspec": {
   "display_name": "Python 3",
   "language": "python",
   "name": "python3"
  },
  "language_info": {
   "codemirror_mode": {
    "name": "ipython",
    "version": 3
   },
   "file_extension": ".py",
   "mimetype": "text/x-python",
   "name": "python",
   "nbconvert_exporter": "python",
   "pygments_lexer": "ipython3",
   "version": "3.7.3"
  }
 },
 "nbformat": 4,
 "nbformat_minor": 2
}
